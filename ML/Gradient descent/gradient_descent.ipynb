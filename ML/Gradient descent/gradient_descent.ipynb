{
 "cells": [
  {
   "cell_type": "code",
   "execution_count": 1,
   "id": "7e77eacf-d3d8-4ff3-8af3-a79f948d3742",
   "metadata": {},
   "outputs": [
    {
     "name": "stdout",
     "output_type": "stream",
     "text": [
      "Local minima at x = -2.999995096014269\n",
      "Minimum value of the function y = 2.4049076048192486e-11\n"
     ]
    }
   ],
   "source": [
    "# Define the function y=(x+3)^2\n",
    "def function(x):\n",
    "    return ( x + 3)**2\n",
    "\n",
    "# Calculate the derivative of the function\n",
    "def derivative(x):\n",
    "    return 2 * (x + 3)\n",
    "\n",
    "# Initialize starting point and learning rate\n",
    "x = 2\n",
    "alpha = 0.1\n",
    "\n",
    "# Set convergence criteria\n",
    "iterations = 1000\n",
    "tolerance = 1e-6\n",
    "\n",
    "# Gradient Descent Algorithm\n",
    "for i in range(iterations):\n",
    "    gradient = derivative(x)\n",
    "    new_x = x - alpha * gradient\n",
    "    \n",
    "    if abs(new_x - x) < tolerance:\n",
    "        break\n",
    "    \n",
    "    x = new_x\n",
    "\n",
    "# Print the local minima\n",
    "print(\"Local minima at x =\", x)\n",
    "print(\"Minimum value of the function y =\", function(x))"
   ]
  },
  {
   "cell_type": "code",
   "execution_count": 2,
   "id": "bc9e5793-c1b4-49c9-8711-3344b5d2d01a",
   "metadata": {},
   "outputs": [
    {
     "name": "stdout",
     "output_type": "stream",
     "text": [
      "Converged to minimum at x = -2.9999960768114153, y = 1.5391408670843192e-11\n",
      "Local minimum occurs at x = -2.999995096014269, y = 2.4049076048192486e-11\n"
     ]
    }
   ],
   "source": [
    "# Initialize parameters\n",
    "x = 2  # Starting point\n",
    "learning_rate = 0.1  # Step size\n",
    "precision = 1e-6  # Convergence threshold\n",
    "max_iterations = 1000  # Maximum number of iterations\n",
    "\n",
    "# Gradient of the function y = (x + 3)^2\n",
    "def gradient(x):\n",
    "    return 2 * (x + 3)\n",
    "\n",
    "# Gradient Descent Algorithm\n",
    "for i in range(max_iterations):\n",
    "    grad = gradient(x)\n",
    "    new_x = x - learning_rate * grad  # Update x\n",
    "\n",
    "    # Check for convergence\n",
    "    if abs(new_x - x) < precision:\n",
    "        print(f\"Converged to minimum at x = {new_x}, y = {(new_x + 3) ** 2}\")\n",
    "        break\n",
    "\n",
    "    # Update x for the next iteration\n",
    "    x = new_x\n",
    "else:\n",
    "    print(\"Reached maximum iterations without convergence\")\n",
    "\n",
    "# Final result\n",
    "print(f\"Local minimum occurs at x = {x}, y = {(x + 3) ** 2}\")\n"
   ]
  },
  {
   "cell_type": "code",
   "execution_count": null,
   "id": "803ebef5-fa9a-4ff8-a0e1-d26d3456a7bc",
   "metadata": {},
   "outputs": [],
   "source": []
  },
  {
   "cell_type": "code",
   "execution_count": 9,
   "id": "1eabecae-455e-4b96-9c70-616685f1ed32",
   "metadata": {},
   "outputs": [
    {
     "name": "stdout",
     "output_type": "stream",
     "text": [
      "Vlaue of x: -2.9999960768114153\n"
     ]
    }
   ],
   "source": [
    "x=2\n",
    "learning_rate=0.1\n",
    "precision=1e-6\n",
    "iteration=1000\n",
    "\n",
    "def gradient(x):\n",
    "    return 2*(x+3)\n",
    "\n",
    "for i in range(iteration):\n",
    "    grad=gradient(x)\n",
    "    new_x=x - learning_rate * grad\n",
    "\n",
    "    if abs(new_x -x) <precision:\n",
    "        print(\"Vlaue of x:\",new_x)\n",
    "        break\n",
    "\n",
    "    x=new_x\n",
    "\n"
   ]
  },
  {
   "cell_type": "code",
   "execution_count": null,
   "id": "82bf10e7-ffcb-4da3-82a8-f35eb9082d26",
   "metadata": {},
   "outputs": [],
   "source": []
  }
 ],
 "metadata": {
  "kernelspec": {
   "display_name": "Python 3 (ipykernel)",
   "language": "python",
   "name": "python3"
  },
  "language_info": {
   "codemirror_mode": {
    "name": "ipython",
    "version": 3
   },
   "file_extension": ".py",
   "mimetype": "text/x-python",
   "name": "python",
   "nbconvert_exporter": "python",
   "pygments_lexer": "ipython3",
   "version": "3.11.4"
  }
 },
 "nbformat": 4,
 "nbformat_minor": 5
}
